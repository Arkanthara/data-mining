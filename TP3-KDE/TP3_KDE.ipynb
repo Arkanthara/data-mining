{
 "cells": [
  {
   "cell_type": "markdown",
   "metadata": {},
   "source": [
    "## TP3 KDE Kernel Density Estimation\n",
    "\n"
   ]
  },
  {
   "cell_type": "markdown",
   "metadata": {},
   "source": [
    "In this TP \n",
    "1. You will implement the appropriate functions for probability density estimation using Gaussian kernels and you will study the effect of the h parameter using a simple artificial data set. \n",
    "2. You will implement the classification using Kernel density estimation. \n",
    "\n",
    "**For details see the description of the TP (TP3_KDE.pdf)**"
   ]
  },
  {
   "cell_type": "code",
   "execution_count": 1,
   "metadata": {},
   "outputs": [],
   "source": [
    "from __future__ import division\n",
    "import numpy as np\n",
    "import random\n",
    "from matplotlib import pyplot as plt\n",
    "from mpl_toolkits.mplot3d import Axes3D\n",
    "import numpy as np\n",
    "from matplotlib.pyplot import show\n",
    "from itertools import combinations\n",
    "\n",
    "# make figures appear inline\n",
    "%matplotlib inline\n",
    "\n",
    "# notebook will reload external python modules;\n",
    "# see http://stackoverflow.com/questions/1907993/autoreload-of-modules-in-ipython\n",
    "%load_ext autoreload\n",
    "%autoreload 2"
   ]
  },
  {
   "cell_type": "markdown",
   "metadata": {},
   "source": [
    "# Exersice 1\n",
    "## Define training set\n",
    "Let your training set consist of four points"
   ]
  },
  {
   "cell_type": "code",
   "execution_count": 2,
   "metadata": {},
   "outputs": [],
   "source": [
    "# Define training set\n",
    "c = np.array([[1,1],[1,4],[3,2.5],[4,2.5]])\n",
    "n = c.shape[0]\n"
   ]
  },
  {
   "cell_type": "markdown",
   "metadata": {},
   "source": [
    "## Define test set\n",
    "Create a regular set of points which cover the plane $[0, 5] \\times [0, 5]$  and stores them in testSet"
   ]
  },
  {
   "cell_type": "code",
   "execution_count": 3,
   "metadata": {},
   "outputs": [],
   "source": [
    "# Define test set\n",
    "min_X, max_X = 0, 5\n",
    "min_Y, max_Y = 0, 5\n",
    "intLength = 30\n",
    "x = np.linspace(min_X, max_X, num=intLength)\n",
    "y = np.linspace(min_Y, max_Y, num=intLength)\n",
    "testSet = np.transpose([np.tile(x, len(y)), np.repeat(y, len(x))])\n",
    "X,Y = np.meshgrid(x,y)"
   ]
  },
  {
   "cell_type": "code",
   "execution_count": 4,
   "metadata": {},
   "outputs": [
    {
     "name": "stdout",
     "output_type": "stream",
     "text": [
      "testSet shape:  (900, 2)\n"
     ]
    }
   ],
   "source": [
    "print('testSet shape: ', testSet.shape)"
   ]
  },
  {
   "cell_type": "code",
   "execution_count": null,
   "metadata": {},
   "outputs": [],
   "source": []
  },
  {
   "cell_type": "markdown",
   "metadata": {},
   "source": [
    "## Define the appropriate functions for probability density estimation using Gaussian kernels \n",
    "\n",
    "Implement the necessary functions in order to do Kernel density estimation using Gaussian kernel\n",
    " "
   ]
  },
  {
   "cell_type": "code",
   "execution_count": 5,
   "metadata": {},
   "outputs": [
    {
     "name": "stdout",
     "output_type": "stream",
     "text": [
      "dimensionality of the test set:2\n"
     ]
    }
   ],
   "source": [
    "# Define parameters\n",
    "\n",
    "# smoothing parameters\n",
    "h = np.array([0.3,0.4,0.5])\n",
    "\n",
    "# dimensionality of the test set\n",
    "d = testSet.shape[1] \n",
    "print(\"dimensionality of the test set:\"+str(d))"
   ]
  },
  {
   "cell_type": "markdown",
   "metadata": {},
   "source": [
    "## Plot p(x|ci) for every ci using h : 0.3, 0.4, 0.5 and comment your results. For a specific center (training point) observe how h influences the result.\n",
    "\n"
   ]
  },
  {
   "cell_type": "markdown",
   "metadata": {},
   "source": [
    "**Surface plots:**\n",
    "https://matplotlib.org/2.0.2/mpl_toolkits/mplot3d/tutorial.html#surface-plots"
   ]
  },
  {
   "cell_type": "code",
   "execution_count": null,
   "metadata": {},
   "outputs": [],
   "source": [
    "#plot conditional density function\n"
   ]
  },
  {
   "cell_type": "markdown",
   "metadata": {},
   "source": [
    "## Plot p(x)  using h : 0.3, 0.4, 0.5. Observe the effect of h."
   ]
  },
  {
   "cell_type": "markdown",
   "metadata": {},
   "source": [
    "**Surface plots:**\n",
    "https://matplotlib.org/2.0.2/mpl_toolkits/mplot3d/tutorial.html#surface-plots"
   ]
  },
  {
   "cell_type": "code",
   "execution_count": null,
   "metadata": {},
   "outputs": [],
   "source": [
    "#plot density function \n"
   ]
  },
  {
   "cell_type": "markdown",
   "metadata": {},
   "source": [
    "# Exersice 2\n",
    "## Classification using Kernel density estimation\n",
    "\n",
    "Implement the algorithm for classification using kernels.  To do that, you have to use the NaiveBayes() class  from the first TP (TP1\\_NB).  New functions need to be added for the density estimation of the likelihoods  and you have to do all the necessary modifications to the existing functions of the NaiveBayes() class.\n",
    "\n",
    "**For continuous attributes, use the Gaussian kernel, and for discrete attributes, use the corresponding kernel for discrete variables, depending on whether they are binary or not.**\n"
   ]
  },
  {
   "cell_type": "code",
   "execution_count": 6,
   "metadata": {},
   "outputs": [
    {
     "name": "stdout",
     "output_type": "stream",
     "text": [
      "Name of each column:\n",
      " ['age' 'workclass' 'fnlwgt' 'education' 'educational-num' 'marital-status'\n",
      " 'occupation' 'relationship' 'race' 'gender' 'capital-gain' 'capital-loss'\n",
      " 'hours-per-week' 'native-country' 'income'] \n",
      "\n",
      "5 first lines of dataset:\n",
      " [['21' 'Private' '119156' 'HS-grad' '9' 'Never-married' 'Craft-repair'\n",
      "  'Own-child' 'White' 'Male' '0' '0' '40' 'United-States' '<=50K']\n",
      " ['41' 'Private' '439919' '5th-6th' '3' 'Married-civ-spouse'\n",
      "  'Farming-fishing' 'Husband' 'White' 'Male' '3411' '0' '40' 'Mexico'\n",
      "  '<=50K']\n",
      " ['29' 'Private' '214689' 'Bachelors' '13' 'Never-married'\n",
      "  'Exec-managerial' 'Not-in-family' 'White' 'Male' '0' '0' '40'\n",
      "  'United-States' '<=50K']\n",
      " ['30' 'Self-emp-not-inc' '113838' 'Assoc-voc' '11' 'Married-civ-spouse'\n",
      "  'Sales' 'Husband' 'White' 'Male' '3137' '0' '60' 'Germany' '<=50K']\n",
      " ['41' 'Private' '154076' 'Some-college' '10' 'Married-civ-spouse'\n",
      "  'Adm-clerical' 'Husband' 'White' 'Male' '0' '0' '50' 'United-States'\n",
      "  '>50K']] \n",
      "\n"
     ]
    },
    {
     "data": {
      "text/plain": [
       "(48842, 15)"
      ]
     },
     "execution_count": 6,
     "metadata": {},
     "output_type": "execute_result"
    }
   ],
   "source": [
    "import csv\n",
    "\n",
    "# Loading the adult data set and transform it into an array.\n",
    "with open('adult.csv', newline='') as csvfile: data = list(csv.reader(csvfile))\n",
    " \n",
    "print('Name of each column:\\n', np.array(data)[0, :], '\\n')\n",
    "\n",
    "# Delete the header containing the name of each feature\n",
    "data = np.array(data)[1:, :]\n",
    "np.random.seed(1234)\n",
    "# shuffle the data\n",
    "np.random.shuffle(data)\n",
    "\n",
    "# print 5 first lines of dataset\n",
    "print('5 first lines of dataset:\\n', data[0:5, :], '\\n')\n",
    "\n",
    "data.shape\n"
   ]
  },
  {
   "cell_type": "markdown",
   "metadata": {},
   "source": [
    "### As in the first TP\\_NB, check for missing values, handle them if present, and split the dataset into training and testing sets (80/20) using a random seed."
   ]
  },
  {
   "cell_type": "code",
   "execution_count": null,
   "metadata": {},
   "outputs": [],
   "source": []
  },
  {
   "cell_type": "markdown",
   "metadata": {},
   "source": [
    "### Once your implementation is ready \n",
    "-  Apply the classifier with kernels to the **Adult dataset**. \n",
    "- Compute the test classification accuracy for **$h$: 0.3, 0.4, 0.5, 1.0**. \n",
    "- Discuss the effect of the $h$ parameter on the classification accuracy of the algorithm in detail.\n"
   ]
  },
  {
   "cell_type": "code",
   "execution_count": null,
   "metadata": {},
   "outputs": [],
   "source": []
  }
 ],
 "metadata": {
  "kernelspec": {
   "display_name": "Python 3 (ipykernel)",
   "language": "python",
   "name": "python3"
  },
  "language_info": {
   "codemirror_mode": {
    "name": "ipython",
    "version": 3
   },
   "file_extension": ".py",
   "mimetype": "text/x-python",
   "name": "python",
   "nbconvert_exporter": "python",
   "pygments_lexer": "ipython3",
   "version": "3.10.9"
  }
 },
 "nbformat": 4,
 "nbformat_minor": 2
}
